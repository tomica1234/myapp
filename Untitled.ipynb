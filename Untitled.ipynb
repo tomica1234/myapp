{
 "cells": [
  {
   "cell_type": "code",
   "execution_count": 27,
   "id": "0faa7fda-bc03-4ebf-bdcb-f53162a3c81f",
   "metadata": {
    "tags": []
   },
   "outputs": [
    {
     "data": {
      "text/plain": [
       "[{'id': '0', 'title': '缶瓶ペットボトル', 'start': '2024-05-01'},\n",
       " {'id': '1', 'title': '缶瓶ペットボトル', 'start': '2024-05-08'},\n",
       " {'id': '2', 'title': '缶瓶ペットボトル', 'start': '2024-05-15'},\n",
       " {'id': '3', 'title': '缶瓶ペットボトル', 'start': '2024-05-22'},\n",
       " {'id': '4', 'title': '缶瓶ペットボトル', 'start': '2024-05-29'},\n",
       " {'id': '5', 'title': '缶瓶ペットボトル', 'start': '2024-06-05'},\n",
       " {'id': '6', 'title': '缶瓶ペットボトル', 'start': '2024-06-12'},\n",
       " {'id': '7', 'title': '缶瓶ペットボトル', 'start': '2024-06-19'},\n",
       " {'id': '8', 'title': '缶瓶ペットボトル', 'start': '2024-06-26'},\n",
       " {'id': '9', 'title': 'プラスチック', 'start': '2024-05-02'},\n",
       " {'id': '10', 'title': 'プラスチック', 'start': '2024-05-09'},\n",
       " {'id': '11', 'title': 'プラスチック', 'start': '2024-05-16'},\n",
       " {'id': '12', 'title': 'プラスチック', 'start': '2024-05-23'},\n",
       " {'id': '13', 'title': 'プラスチック', 'start': '2024-05-30'},\n",
       " {'id': '14', 'title': 'プラスチック', 'start': '2024-06-06'},\n",
       " {'id': '15', 'title': 'プラスチック', 'start': '2024-06-13'},\n",
       " {'id': '16', 'title': 'プラスチック', 'start': '2024-06-20'},\n",
       " {'id': '17', 'title': 'プラスチック', 'start': '2024-06-27'},\n",
       " {'id': '18', 'title': '資源ごみ', 'start': '2024-05-07'},\n",
       " {'id': '19', 'title': '資源ごみ', 'start': '2024-06-04'},\n",
       " {'id': '20', 'title': '資源ごみ', 'start': '2024-05-21'},\n",
       " {'id': '21', 'title': '資源ごみ', 'start': '2024-06-18'}]"
      ]
     },
     "execution_count": 27,
     "metadata": {},
     "output_type": "execute_result"
    }
   ],
   "source": [
    "from datetime import datetime\n",
    "from dateutil.relativedelta import relativedelta\n",
    "from dateutil.rrule import rrule, MONTHLY, WEEKLY, TH, TU, WE\n",
    "\n",
    "# 現在の日付を取得\n",
    "now = datetime.now()\n",
    "\n",
    "# 今月の初日と来月の初日を計算\n",
    "this_month_start = datetime(now.year, now.month, 1)\n",
    "next_month_start = this_month_start + relativedelta(months=+1)\n",
    "two_months_later_start = next_month_start + relativedelta(months=+1)\n",
    "\n",
    "# 今月と来月の水曜日の全日にちを取得\n",
    "wednesdays = list(rrule(freq=WEEKLY, dtstart=this_month_start, until=two_months_later_start, byweekday=WE))\n",
    "wednesday_dates = [d.date() for d in wednesdays if d < two_months_later_start]\n",
    "\n",
    "\n",
    "# 今月と来月の木曜日の全日にちを取得\n",
    "thursdays = list(rrule(freq=WEEKLY, dtstart=this_month_start, until=two_months_later_start, byweekday=TH))\n",
    "thursday_dates = [d.date() for d in thursdays if d < two_months_later_start]\n",
    "\n",
    "\n",
    "# 今月と来月の第1, 第3火曜日の日にちを取得\n",
    "first_tuesdays = list(rrule(freq=MONTHLY, dtstart=this_month_start, until=two_months_later_start, byweekday=TU(1)))\n",
    "third_tuesdays = list(rrule(freq=MONTHLY, dtstart=this_month_start, until=two_months_later_start, byweekday=TU(3)))\n",
    "\n",
    "# rrule オブジェクトの結果を結合\n",
    "first_third_tuesdays = first_tuesdays + third_tuesdays\n",
    "first_third_tuesday_dates = [d.date() for d in first_third_tuesdays if d < two_months_later_start]\n",
    "\n",
    "event_list = []\n",
    "for wed in range(len(wednesday_dates)):\n",
    "    event = {\n",
    "        'id': str(wed),\n",
    "        'title':'缶瓶ペットボトル',\n",
    "        'start':str(wednesday_dates[wed])\n",
    "    }\n",
    "    event_list.append(event)\n",
    "\n",
    "for thu in range(len(thursday_dates)):\n",
    "    event = {\n",
    "        'id': str(thu+len(wednesday_dates)),\n",
    "        'title':'プラスチック',\n",
    "        'start':str(thursday_dates[thu])\n",
    "    }\n",
    "    event_list.append(event)\n",
    "\n",
    "for tue in range(len(first_third_tuesday_dates)):\n",
    "    event = {\n",
    "        'id': str(tue+len(wednesday_dates)+len(thursday_dates)),\n",
    "        'title':'資源ごみ',\n",
    "        'start':str(first_third_tuesday_dates[tue])\n",
    "    }\n",
    "    event_list.append(event)\n",
    "event_list    \n"
   ]
  },
  {
   "cell_type": "code",
   "execution_count": null,
   "id": "3bbbbd42-f428-4b04-add1-8668aedafac1",
   "metadata": {},
   "outputs": [],
   "source": []
  }
 ],
 "metadata": {
  "kernelspec": {
   "display_name": "Python 3 (ipykernel)",
   "language": "python",
   "name": "python3"
  },
  "language_info": {
   "codemirror_mode": {
    "name": "ipython",
    "version": 3
   },
   "file_extension": ".py",
   "mimetype": "text/x-python",
   "name": "python",
   "nbconvert_exporter": "python",
   "pygments_lexer": "ipython3",
   "version": "3.11.7"
  }
 },
 "nbformat": 4,
 "nbformat_minor": 5
}
